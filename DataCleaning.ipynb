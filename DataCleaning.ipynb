{
 "cells": [
  {
   "cell_type": "code",
   "execution_count": 45,
   "metadata": {
    "cell_id": "00000-bab42cfe-ab3d-465a-b7e7-86a229c6e5ff",
    "deepnote_cell_type": "code",
    "deepnote_to_be_reexecuted": false,
    "execution_millis": 45,
    "execution_start": 1638980711217,
    "source_hash": "b251d5fd",
    "tags": []
   },
   "outputs": [
    {
     "data": {
      "text/html": [
       "<div>\n",
       "<style scoped>\n",
       "    .dataframe tbody tr th:only-of-type {\n",
       "        vertical-align: middle;\n",
       "    }\n",
       "\n",
       "    .dataframe tbody tr th {\n",
       "        vertical-align: top;\n",
       "    }\n",
       "\n",
       "    .dataframe thead th {\n",
       "        text-align: right;\n",
       "    }\n",
       "</style>\n",
       "<table border=\"1\" class=\"dataframe\">\n",
       "  <thead>\n",
       "    <tr style=\"text-align: right;\">\n",
       "      <th></th>\n",
       "      <th>Date</th>\n",
       "      <th>Time</th>\n",
       "      <th>Day</th>\n",
       "      <th>Tm</th>\n",
       "      <th>H/N/C</th>\n",
       "    </tr>\n",
       "  </thead>\n",
       "  <tbody>\n",
       "    <tr>\n",
       "      <th>0</th>\n",
       "      <td>27.11.2021</td>\n",
       "      <td>8:00:00 AM</td>\n",
       "      <td>Sunday</td>\n",
       "      <td>27C</td>\n",
       "      <td>Normal</td>\n",
       "    </tr>\n",
       "    <tr>\n",
       "      <th>1</th>\n",
       "      <td>27.11.2021</td>\n",
       "      <td>9:00:00 AM</td>\n",
       "      <td>Sunday</td>\n",
       "      <td>28C</td>\n",
       "      <td>Normal</td>\n",
       "    </tr>\n",
       "    <tr>\n",
       "      <th>2</th>\n",
       "      <td>27.11.2021</td>\n",
       "      <td>10:00:00 AM</td>\n",
       "      <td>Sunday</td>\n",
       "      <td>29C</td>\n",
       "      <td>Normal</td>\n",
       "    </tr>\n",
       "    <tr>\n",
       "      <th>3</th>\n",
       "      <td>27.11.2021</td>\n",
       "      <td>11:00:00 AM</td>\n",
       "      <td>Sunday</td>\n",
       "      <td>30C</td>\n",
       "      <td>Normal</td>\n",
       "    </tr>\n",
       "    <tr>\n",
       "      <th>4</th>\n",
       "      <td>27.11.2021</td>\n",
       "      <td>12:00:00 PM</td>\n",
       "      <td>Sunday</td>\n",
       "      <td>30C</td>\n",
       "      <td>Normal</td>\n",
       "    </tr>\n",
       "  </tbody>\n",
       "</table>\n",
       "</div>"
      ],
      "text/plain": [
       "         Date         Time     Day   Tm   H/N/C\n",
       "0  27.11.2021   8:00:00 AM  Sunday  27C  Normal\n",
       "1  27.11.2021   9:00:00 AM  Sunday  28C  Normal\n",
       "2  27.11.2021  10:00:00 AM  Sunday  29C  Normal\n",
       "3  27.11.2021  11:00:00 AM  Sunday  30C  Normal\n",
       "4  27.11.2021  12:00:00 PM  Sunday  30C  Normal"
      ]
     },
     "execution_count": 45,
     "metadata": {},
     "output_type": "execute_result"
    }
   ],
   "source": [
    "#import libraries\n",
    "import pandas as pd\n",
    "\n",
    "df=pd.read_csv('temp_rec_test.csv')\n",
    "df.head()\n"
   ]
  },
  {
   "cell_type": "code",
   "execution_count": 46,
   "metadata": {
    "cell_id": "00001-08bbbb24-9c00-463c-851c-6726d7d039ab",
    "deepnote_cell_type": "code",
    "deepnote_output_heights": [
     117.125
    ],
    "deepnote_to_be_reexecuted": false,
    "execution_millis": 46,
    "execution_start": 1638980711261,
    "source_hash": "6a98ce55",
    "tags": []
   },
   "outputs": [
    {
     "data": {
      "text/plain": [
       "Date     object\n",
       "Time     object\n",
       "Day      object\n",
       "Tm       object\n",
       "H/N/C    object\n",
       "dtype: object"
      ]
     },
     "execution_count": 46,
     "metadata": {},
     "output_type": "execute_result"
    }
   ],
   "source": [
    "# checking data types\n",
    "df.dtypes"
   ]
  },
  {
   "cell_type": "code",
   "execution_count": 47,
   "metadata": {
    "cell_id": "00002-d66ae0a7-5782-41ff-9775-5fafda029601",
    "deepnote_cell_type": "code",
    "deepnote_to_be_reexecuted": false,
    "execution_millis": 0,
    "execution_start": 1638980711304,
    "source_hash": "de1e323c",
    "tags": []
   },
   "outputs": [
    {
     "name": "stdout",
     "output_type": "stream",
     "text": [
      "<class 'pandas.core.frame.DataFrame'>\n",
      "RangeIndex: 29 entries, 0 to 28\n",
      "Data columns (total 5 columns):\n",
      "Date     29 non-null object\n",
      "Time     29 non-null object\n",
      "Day      29 non-null object\n",
      "Tm       27 non-null object\n",
      "H/N/C    29 non-null object\n",
      "dtypes: object(5)\n",
      "memory usage: 1.2+ KB\n"
     ]
    }
   ],
   "source": [
    "df.info()"
   ]
  },
  {
   "cell_type": "code",
   "execution_count": 48,
   "metadata": {
    "cell_id": "00003-0140afe6-b69e-4786-ab37-d42d2cf6eb38",
    "deepnote_cell_type": "code",
    "deepnote_to_be_reexecuted": false,
    "execution_millis": 3,
    "execution_start": 1638980711305,
    "source_hash": "52772e17",
    "tags": []
   },
   "outputs": [],
   "source": [
    "# rename column\n",
    "df.rename(columns={'H/N/C':'Status'},inplace=True)\n",
    "\n",
    "df['Tm']=df['Tm'].str.strip('C')"
   ]
  },
  {
   "cell_type": "code",
   "execution_count": 49,
   "metadata": {
    "allow_embed": false,
    "cell_id": "00004-f6b04e17-3726-40ae-a915-37aec202b402",
    "deepnote_cell_type": "code",
    "deepnote_output_heights": [
     117.125
    ],
    "deepnote_to_be_reexecuted": false,
    "execution_millis": 0,
    "execution_start": 1638980711332,
    "source_hash": "52430027",
    "tags": []
   },
   "outputs": [
    {
     "data": {
      "text/plain": [
       "Date      object\n",
       "Time      object\n",
       "Day       object\n",
       "Tm        object\n",
       "Status    object\n",
       "dtype: object"
      ]
     },
     "execution_count": 49,
     "metadata": {},
     "output_type": "execute_result"
    }
   ],
   "source": [
    "df.dtypes"
   ]
  },
  {
   "cell_type": "code",
   "execution_count": 50,
   "metadata": {
    "cell_id": "00005-a8d6dd26-9b11-4a65-aef6-b57d27c1127c",
    "deepnote_cell_type": "code",
    "deepnote_output_heights": [
     117.125
    ],
    "deepnote_to_be_reexecuted": false,
    "execution_millis": 3,
    "execution_start": 1638980711333,
    "source_hash": "2b090bce",
    "tags": []
   },
   "outputs": [
    {
     "data": {
      "text/plain": [
       "Date      0\n",
       "Time      0\n",
       "Day       0\n",
       "Tm        2\n",
       "Status    0\n",
       "dtype: int64"
      ]
     },
     "execution_count": 50,
     "metadata": {},
     "output_type": "execute_result"
    }
   ],
   "source": [
    "#check missing values\n",
    "df.isna().sum()"
   ]
  },
  {
   "cell_type": "code",
   "execution_count": 51,
   "metadata": {},
   "outputs": [
    {
     "data": {
      "image/png": "[encoded data removed]",
      "text/plain": [
       "<Figure size 1800x720 with 2 Axes>"
      ]
     },
     "metadata": {
      "needs_background": "light"
     },
     "output_type": "display_data"
    }
   ],
   "source": [
    "import missingno as msno\n",
    "import matplotlib.pyplot as plt\n",
    "msno.matrix(df)\n",
    "plt.show()\n"
   ]
  },
  {
   "cell_type": "code",
   "execution_count": 52,
   "metadata": {
    "cell_id": "00007-644afff3-1e1f-49fd-9a59-e5fd437d5e06",
    "deepnote_cell_type": "code",
    "deepnote_output_heights": [
     577.625
    ],
    "deepnote_to_be_reexecuted": false,
    "execution_millis": 1,
    "execution_start": 1638980711333,
    "source_hash": "5ffa0137",
    "tags": []
   },
   "outputs": [],
   "source": [
    "# fill missing values using forward fill\n",
    "df['Tm']=df['Tm'].fillna(method='ffill')"
   ]
  },
  {
   "cell_type": "code",
   "execution_count": 53,
   "metadata": {
    "cell_id": "00007-81b110fc-220a-4e59-95bc-017db1961f7b",
    "deepnote_cell_type": "code",
    "deepnote_to_be_reexecuted": false,
    "execution_millis": 46,
    "execution_start": 1638980711335,
    "source_hash": "f88152d9",
    "tags": []
   },
   "outputs": [
    {
     "name": "stdout",
     "output_type": "stream",
     "text": [
      "<class 'pandas.core.frame.DataFrame'>\n",
      "RangeIndex: 29 entries, 0 to 28\n",
      "Data columns (total 5 columns):\n",
      "Date      29 non-null object\n",
      "Time      29 non-null object\n",
      "Day       29 non-null object\n",
      "Tm        29 non-null object\n",
      "Status    29 non-null object\n",
      "dtypes: object(5)\n",
      "memory usage: 1.2+ KB\n"
     ]
    }
   ],
   "source": [
    "df.info()"
   ]
  },
  {
   "cell_type": "code",
   "execution_count": 10,
   "metadata": {
    "cell_id": "00008-bf17f561-41f2-4462-aa8c-7cffca4312b9",
    "deepnote_cell_type": "code",
    "deepnote_output_heights": [
     21.1875
    ],
    "deepnote_to_be_reexecuted": false,
    "execution_millis": 3,
    "execution_start": 1638980711424,
    "source_hash": "6af03b2b",
    "tags": []
   },
   "outputs": [
    {
     "data": {
      "text/plain": [
       "array(['27.11.2021', '28.11.2021', '28.11.2022'], dtype=object)"
      ]
     },
     "execution_count": 10,
     "metadata": {},
     "output_type": "execute_result"
    }
   ],
   "source": [
    "#check membership of Date\n",
    "df['Date'].unique()"
   ]
  },
  {
   "cell_type": "code",
   "execution_count": 11,
   "metadata": {
    "cell_id": "00009-6c527b4d-9f9d-413f-b978-7c169b39af6b",
    "deepnote_cell_type": "code",
    "deepnote_output_heights": [
     21.1875
    ],
    "deepnote_to_be_reexecuted": false,
    "execution_millis": 0,
    "execution_start": 1638980711425,
    "source_hash": "2330d318",
    "tags": []
   },
   "outputs": [
    {
     "data": {
      "text/plain": [
       "Timestamp('2021-12-08 18:27:08.125430')"
      ]
     },
     "execution_count": 11,
     "metadata": {},
     "output_type": "execute_result"
    }
   ],
   "source": [
    "#import datetime as dt\n",
    "toDay=pd.to_datetime('now')\n",
    "toDay\n",
    "### Data Type Constraint###\n",
    "# assert Date is datetime object\n",
    "#assert df['Date'].dtype=='datetime64[ns]'\n",
    "\n"
   ]
  },
  {
   "cell_type": "code",
   "execution_count": 12,
   "metadata": {
    "cell_id": "00007-cbab2af5-5da8-4bc8-a695-25a270ab55c0",
    "deepnote_cell_type": "code",
    "deepnote_output_heights": [
     577.625
    ],
    "deepnote_to_be_reexecuted": false,
    "execution_millis": 2,
    "execution_start": 1638980711426,
    "source_hash": "299c6943",
    "tags": []
   },
   "outputs": [],
   "source": [
    "# convert Date column to pandas date time object\n",
    "df['Date']=pd.to_datetime(df['Date'])\n",
    "\n",
    "\n",
    "#assert df['Date'].dtype=='datetime64[ns]'\n"
   ]
  },
  {
   "cell_type": "code",
   "execution_count": 13,
   "metadata": {
    "cell_id": "00011-1339eb54-87da-4ff0-af20-6be157ba8836",
    "deepnote_cell_type": "code",
    "deepnote_output_heights": [
     607
    ],
    "deepnote_to_be_reexecuted": false,
    "execution_millis": 31,
    "execution_start": 1638980711428,
    "source_hash": "e050bf8f",
    "tags": []
   },
   "outputs": [
    {
     "data": {
      "text/html": [
       "<div>\n",
       "<style scoped>\n",
       "    .dataframe tbody tr th:only-of-type {\n",
       "        vertical-align: middle;\n",
       "    }\n",
       "\n",
       "    .dataframe tbody tr th {\n",
       "        vertical-align: top;\n",
       "    }\n",
       "\n",
       "    .dataframe thead th {\n",
       "        text-align: right;\n",
       "    }\n",
       "</style>\n",
       "<table border=\"1\" class=\"dataframe\">\n",
       "  <thead>\n",
       "    <tr style=\"text-align: right;\">\n",
       "      <th></th>\n",
       "      <th>Date</th>\n",
       "      <th>Time</th>\n",
       "      <th>Day</th>\n",
       "      <th>Tm</th>\n",
       "      <th>Status</th>\n",
       "    </tr>\n",
       "  </thead>\n",
       "  <tbody>\n",
       "    <tr>\n",
       "      <th>28</th>\n",
       "      <td>2022-11-28</td>\n",
       "      <td>9:00:00 PM</td>\n",
       "      <td>Monday</td>\n",
       "      <td>28</td>\n",
       "      <td>Normal</td>\n",
       "    </tr>\n",
       "  </tbody>\n",
       "</table>\n",
       "</div>"
      ],
      "text/plain": [
       "         Date        Time     Day  Tm  Status\n",
       "28 2022-11-28  9:00:00 PM  Monday  28  Normal"
      ]
     },
     "execution_count": 13,
     "metadata": {},
     "output_type": "execute_result"
    }
   ],
   "source": [
    "# Subset Irrelevant Dates\n",
    "df_subset = df.loc[(df['Date'] > toDay)]\n",
    "df_subset"
   ]
  },
  {
   "cell_type": "code",
   "execution_count": 14,
   "metadata": {
    "cell_id": "00012-2eb749b1-934f-4089-a552-db52feaa1e25",
    "deepnote_cell_type": "code",
    "deepnote_to_be_reexecuted": false,
    "execution_millis": 0,
    "execution_start": 1638980711506,
    "source_hash": "697215c9",
    "tags": []
   },
   "outputs": [],
   "source": [
    "#drop the out of range data\n",
    "df.drop(df[df['Date']>toDay].index,inplace=True)"
   ]
  },
  {
   "cell_type": "code",
   "execution_count": 15,
   "metadata": {
    "cell_id": "00013-9bea9240-dc56-47c1-b4ba-d6c4a59547bd",
    "deepnote_cell_type": "code",
    "deepnote_to_be_reexecuted": false,
    "execution_millis": 1,
    "execution_start": 1638980711506,
    "source_hash": "de1e323c",
    "tags": []
   },
   "outputs": [
    {
     "name": "stdout",
     "output_type": "stream",
     "text": [
      "<class 'pandas.core.frame.DataFrame'>\n",
      "Int64Index: 28 entries, 0 to 27\n",
      "Data columns (total 5 columns):\n",
      "Date      28 non-null datetime64[ns]\n",
      "Time      28 non-null object\n",
      "Day       28 non-null object\n",
      "Tm        28 non-null object\n",
      "Status    28 non-null object\n",
      "dtypes: datetime64[ns](1), object(4)\n",
      "memory usage: 1.3+ KB\n"
     ]
    }
   ],
   "source": [
    "df.info()"
   ]
  },
  {
   "cell_type": "code",
   "execution_count": 16,
   "metadata": {
    "cell_id": "00014-8ff72b08-691d-4c99-9812-5f80559748e7",
    "deepnote_cell_type": "code",
    "deepnote_output_heights": [
     78.75
    ],
    "deepnote_to_be_reexecuted": false,
    "execution_millis": 2,
    "execution_start": 1638980711507,
    "source_hash": "50901418",
    "tags": []
   },
   "outputs": [
    {
     "data": {
      "text/plain": [
       "array(['8:00:00 AM', '9:00:00 AM', '10:00:00 AM', '11:00:00 AM',\n",
       "       '12:00:00 PM', '1:00:00 PM', '2:00:00 PM', '3:00:00 PM',\n",
       "       '4:00:00 PM', '5:00:00 PM', '6:00:00 PM', '7:00:00 PM',\n",
       "       '8:00:00 PM', '9:00:00 PM'], dtype=object)"
      ]
     },
     "execution_count": 16,
     "metadata": {},
     "output_type": "execute_result"
    }
   ],
   "source": [
    "# check membership of time\n",
    "df['Time'].unique()"
   ]
  },
  {
   "cell_type": "code",
   "execution_count": 17,
   "metadata": {
    "cell_id": "00008-59804c07-dfb6-4eca-a378-13ed20af1efa",
    "deepnote_cell_type": "code",
    "deepnote_output_heights": [
     21.1875
    ],
    "deepnote_to_be_reexecuted": false,
    "execution_millis": 5,
    "execution_start": 1638980711519,
    "source_hash": "abe59849",
    "tags": []
   },
   "outputs": [
    {
     "data": {
      "text/plain": [
       "'27282930303133333431322929288385282829303131302929282929'"
      ]
     },
     "execution_count": 17,
     "metadata": {},
     "output_type": "execute_result"
    }
   ],
   "source": [
    "# to make sure 'Tm' column values are integer (Data type constraint)\n",
    "df['Tm'].sum()"
   ]
  },
  {
   "cell_type": "code",
   "execution_count": 18,
   "metadata": {
    "cell_id": "00009-c4a082bf-66fd-407c-9e92-b3f387f1df50",
    "deepnote_cell_type": "code",
    "deepnote_output_heights": [
     21.1875
    ],
    "deepnote_to_be_reexecuted": false,
    "execution_millis": 5,
    "execution_start": 1638980711562,
    "source_hash": "bc3399e4",
    "tags": []
   },
   "outputs": [
    {
     "data": {
      "text/plain": [
       "943"
      ]
     },
     "execution_count": 18,
     "metadata": {},
     "output_type": "execute_result"
    }
   ],
   "source": [
    "df['Tm']=df['Tm'].astype('int')\n",
    "df['Tm'].sum()"
   ]
  },
  {
   "cell_type": "code",
   "execution_count": 19,
   "metadata": {
    "cell_id": "00018-41a748a7-d54e-4191-833a-a3edeb92a7be",
    "deepnote_cell_type": "code",
    "deepnote_output_heights": [
     21.1875
    ],
    "deepnote_to_be_reexecuted": false,
    "execution_millis": 4,
    "execution_start": 1638980711563,
    "source_hash": "9230bee7",
    "tags": []
   },
   "outputs": [
    {
     "data": {
      "text/plain": [
       "array(['Normal', 'Hot', 'Hot '], dtype=object)"
      ]
     },
     "execution_count": 19,
     "metadata": {},
     "output_type": "execute_result"
    }
   ],
   "source": [
    "# check membership of Status\n",
    "df['Status'].unique()"
   ]
  },
  {
   "cell_type": "code",
   "execution_count": 20,
   "metadata": {
    "cell_id": "00019-73c0fc17-22ef-4501-9d60-03006a07997d",
    "deepnote_cell_type": "code",
    "deepnote_output_heights": [
     78.75
    ],
    "deepnote_to_be_reexecuted": false,
    "execution_millis": 3,
    "execution_start": 1638980711564,
    "source_hash": "aeba68e1",
    "tags": []
   },
   "outputs": [
    {
     "data": {
      "text/plain": [
       "Normal    20\n",
       "Hot        6\n",
       "Hot        2\n",
       "Name: Status, dtype: int64"
      ]
     },
     "execution_count": 20,
     "metadata": {},
     "output_type": "execute_result"
    }
   ],
   "source": [
    "#value consistency\n",
    "df['Status'].value_counts()"
   ]
  },
  {
   "cell_type": "code",
   "execution_count": 21,
   "metadata": {
    "cell_id": "00020-1217d332-6814-4ac6-9d41-efca1dd9b83d",
    "deepnote_cell_type": "code",
    "deepnote_output_heights": [
     59.5625
    ],
    "deepnote_to_be_reexecuted": false,
    "execution_millis": 4,
    "execution_start": 1638980787501,
    "source_hash": "c2cb0858",
    "tags": []
   },
   "outputs": [
    {
     "data": {
      "text/plain": [
       "Normal    20\n",
       "Hot        8\n",
       "Name: Status, dtype: int64"
      ]
     },
     "execution_count": 21,
     "metadata": {},
     "output_type": "execute_result"
    }
   ],
   "source": [
    "df['Status']=df['Status'].str.strip()\n",
    "df['Status'].value_counts()"
   ]
  },
  {
   "cell_type": "code",
   "execution_count": 22,
   "metadata": {},
   "outputs": [
    {
     "data": {
      "text/html": [
       "<div>\n",
       "<style scoped>\n",
       "    .dataframe tbody tr th:only-of-type {\n",
       "        vertical-align: middle;\n",
       "    }\n",
       "\n",
       "    .dataframe tbody tr th {\n",
       "        vertical-align: top;\n",
       "    }\n",
       "\n",
       "    .dataframe thead th {\n",
       "        text-align: right;\n",
       "    }\n",
       "</style>\n",
       "<table border=\"1\" class=\"dataframe\">\n",
       "  <thead>\n",
       "    <tr style=\"text-align: right;\">\n",
       "      <th></th>\n",
       "      <th>Date</th>\n",
       "      <th>Time</th>\n",
       "      <th>Day</th>\n",
       "      <th>Tm</th>\n",
       "      <th>Status</th>\n",
       "    </tr>\n",
       "  </thead>\n",
       "  <tbody>\n",
       "    <tr>\n",
       "      <th>0</th>\n",
       "      <td>2021-11-27</td>\n",
       "      <td>8:00:00 AM</td>\n",
       "      <td>Sunday</td>\n",
       "      <td>27</td>\n",
       "      <td>Normal</td>\n",
       "    </tr>\n",
       "    <tr>\n",
       "      <th>1</th>\n",
       "      <td>2021-11-27</td>\n",
       "      <td>9:00:00 AM</td>\n",
       "      <td>Sunday</td>\n",
       "      <td>28</td>\n",
       "      <td>Normal</td>\n",
       "    </tr>\n",
       "    <tr>\n",
       "      <th>2</th>\n",
       "      <td>2021-11-27</td>\n",
       "      <td>10:00:00 AM</td>\n",
       "      <td>Sunday</td>\n",
       "      <td>29</td>\n",
       "      <td>Normal</td>\n",
       "    </tr>\n",
       "    <tr>\n",
       "      <th>3</th>\n",
       "      <td>2021-11-27</td>\n",
       "      <td>11:00:00 AM</td>\n",
       "      <td>Sunday</td>\n",
       "      <td>30</td>\n",
       "      <td>Normal</td>\n",
       "    </tr>\n",
       "    <tr>\n",
       "      <th>4</th>\n",
       "      <td>2021-11-27</td>\n",
       "      <td>12:00:00 PM</td>\n",
       "      <td>Sunday</td>\n",
       "      <td>30</td>\n",
       "      <td>Normal</td>\n",
       "    </tr>\n",
       "    <tr>\n",
       "      <th>5</th>\n",
       "      <td>2021-11-27</td>\n",
       "      <td>1:00:00 PM</td>\n",
       "      <td>Sunday</td>\n",
       "      <td>31</td>\n",
       "      <td>Hot</td>\n",
       "    </tr>\n",
       "    <tr>\n",
       "      <th>6</th>\n",
       "      <td>2021-11-27</td>\n",
       "      <td>2:00:00 PM</td>\n",
       "      <td>Sunday</td>\n",
       "      <td>33</td>\n",
       "      <td>Hot</td>\n",
       "    </tr>\n",
       "    <tr>\n",
       "      <th>7</th>\n",
       "      <td>2021-11-27</td>\n",
       "      <td>3:00:00 PM</td>\n",
       "      <td>Sunday</td>\n",
       "      <td>33</td>\n",
       "      <td>Hot</td>\n",
       "    </tr>\n",
       "    <tr>\n",
       "      <th>8</th>\n",
       "      <td>2021-11-27</td>\n",
       "      <td>4:00:00 PM</td>\n",
       "      <td>Sunday</td>\n",
       "      <td>34</td>\n",
       "      <td>Hot</td>\n",
       "    </tr>\n",
       "    <tr>\n",
       "      <th>9</th>\n",
       "      <td>2021-11-27</td>\n",
       "      <td>5:00:00 PM</td>\n",
       "      <td>Sunday</td>\n",
       "      <td>31</td>\n",
       "      <td>Normal</td>\n",
       "    </tr>\n",
       "    <tr>\n",
       "      <th>10</th>\n",
       "      <td>2021-11-27</td>\n",
       "      <td>6:00:00 PM</td>\n",
       "      <td>Sunday</td>\n",
       "      <td>32</td>\n",
       "      <td>Normal</td>\n",
       "    </tr>\n",
       "    <tr>\n",
       "      <th>11</th>\n",
       "      <td>2021-11-27</td>\n",
       "      <td>7:00:00 PM</td>\n",
       "      <td>Sunday</td>\n",
       "      <td>29</td>\n",
       "      <td>Normal</td>\n",
       "    </tr>\n",
       "    <tr>\n",
       "      <th>12</th>\n",
       "      <td>2021-11-27</td>\n",
       "      <td>8:00:00 PM</td>\n",
       "      <td>Sunday</td>\n",
       "      <td>29</td>\n",
       "      <td>Normal</td>\n",
       "    </tr>\n",
       "    <tr>\n",
       "      <th>13</th>\n",
       "      <td>2021-11-27</td>\n",
       "      <td>9:00:00 PM</td>\n",
       "      <td>Sunday</td>\n",
       "      <td>28</td>\n",
       "      <td>Normal</td>\n",
       "    </tr>\n",
       "    <tr>\n",
       "      <th>14</th>\n",
       "      <td>2021-11-28</td>\n",
       "      <td>8:00:00 AM</td>\n",
       "      <td>Monday</td>\n",
       "      <td>83</td>\n",
       "      <td>Normal</td>\n",
       "    </tr>\n",
       "    <tr>\n",
       "      <th>15</th>\n",
       "      <td>2021-11-28</td>\n",
       "      <td>9:00:00 AM</td>\n",
       "      <td>monday</td>\n",
       "      <td>85</td>\n",
       "      <td>Normal</td>\n",
       "    </tr>\n",
       "    <tr>\n",
       "      <th>16</th>\n",
       "      <td>2021-11-28</td>\n",
       "      <td>10:00:00 AM</td>\n",
       "      <td>Monday</td>\n",
       "      <td>28</td>\n",
       "      <td>Normal</td>\n",
       "    </tr>\n",
       "    <tr>\n",
       "      <th>17</th>\n",
       "      <td>2021-11-28</td>\n",
       "      <td>11:00:00 AM</td>\n",
       "      <td>Monday</td>\n",
       "      <td>28</td>\n",
       "      <td>Normal</td>\n",
       "    </tr>\n",
       "    <tr>\n",
       "      <th>18</th>\n",
       "      <td>2021-11-28</td>\n",
       "      <td>12:00:00 PM</td>\n",
       "      <td>Monday</td>\n",
       "      <td>29</td>\n",
       "      <td>Normal</td>\n",
       "    </tr>\n",
       "    <tr>\n",
       "      <th>19</th>\n",
       "      <td>2021-11-28</td>\n",
       "      <td>1:00:00 PM</td>\n",
       "      <td>Monday</td>\n",
       "      <td>30</td>\n",
       "      <td>Hot</td>\n",
       "    </tr>\n",
       "    <tr>\n",
       "      <th>20</th>\n",
       "      <td>2021-11-28</td>\n",
       "      <td>2:00:00 PM</td>\n",
       "      <td>Monday</td>\n",
       "      <td>31</td>\n",
       "      <td>Hot</td>\n",
       "    </tr>\n",
       "    <tr>\n",
       "      <th>21</th>\n",
       "      <td>2021-11-28</td>\n",
       "      <td>3:00:00 PM</td>\n",
       "      <td>Monday</td>\n",
       "      <td>31</td>\n",
       "      <td>Hot</td>\n",
       "    </tr>\n",
       "    <tr>\n",
       "      <th>22</th>\n",
       "      <td>2021-11-28</td>\n",
       "      <td>4:00:00 PM</td>\n",
       "      <td>Monday</td>\n",
       "      <td>30</td>\n",
       "      <td>Hot</td>\n",
       "    </tr>\n",
       "    <tr>\n",
       "      <th>23</th>\n",
       "      <td>2021-11-28</td>\n",
       "      <td>5:00:00 PM</td>\n",
       "      <td>Monday</td>\n",
       "      <td>29</td>\n",
       "      <td>Normal</td>\n",
       "    </tr>\n",
       "    <tr>\n",
       "      <th>24</th>\n",
       "      <td>2021-11-28</td>\n",
       "      <td>6:00:00 PM</td>\n",
       "      <td>Monday</td>\n",
       "      <td>29</td>\n",
       "      <td>Normal</td>\n",
       "    </tr>\n",
       "    <tr>\n",
       "      <th>25</th>\n",
       "      <td>2021-11-28</td>\n",
       "      <td>7:00:00 PM</td>\n",
       "      <td>Monday</td>\n",
       "      <td>28</td>\n",
       "      <td>Normal</td>\n",
       "    </tr>\n",
       "    <tr>\n",
       "      <th>26</th>\n",
       "      <td>2021-11-28</td>\n",
       "      <td>8:00:00 PM</td>\n",
       "      <td>Monday</td>\n",
       "      <td>29</td>\n",
       "      <td>Normal</td>\n",
       "    </tr>\n",
       "    <tr>\n",
       "      <th>27</th>\n",
       "      <td>2021-11-28</td>\n",
       "      <td>8:00:00 PM</td>\n",
       "      <td>Monday</td>\n",
       "      <td>29</td>\n",
       "      <td>Normal</td>\n",
       "    </tr>\n",
       "  </tbody>\n",
       "</table>\n",
       "</div>"
      ],
      "text/plain": [
       "         Date         Time     Day  Tm  Status\n",
       "0  2021-11-27   8:00:00 AM  Sunday  27  Normal\n",
       "1  2021-11-27   9:00:00 AM  Sunday  28  Normal\n",
       "2  2021-11-27  10:00:00 AM  Sunday  29  Normal\n",
       "3  2021-11-27  11:00:00 AM  Sunday  30  Normal\n",
       "4  2021-11-27  12:00:00 PM  Sunday  30  Normal\n",
       "5  2021-11-27   1:00:00 PM  Sunday  31     Hot\n",
       "6  2021-11-27   2:00:00 PM  Sunday  33     Hot\n",
       "7  2021-11-27   3:00:00 PM  Sunday  33     Hot\n",
       "8  2021-11-27   4:00:00 PM  Sunday  34     Hot\n",
       "9  2021-11-27   5:00:00 PM  Sunday  31  Normal\n",
       "10 2021-11-27   6:00:00 PM  Sunday  32  Normal\n",
       "11 2021-11-27   7:00:00 PM  Sunday  29  Normal\n",
       "12 2021-11-27   8:00:00 PM  Sunday  29  Normal\n",
       "13 2021-11-27   9:00:00 PM  Sunday  28  Normal\n",
       "14 2021-11-28   8:00:00 AM  Monday  83  Normal\n",
       "15 2021-11-28   9:00:00 AM  monday  85  Normal\n",
       "16 2021-11-28  10:00:00 AM  Monday  28  Normal\n",
       "17 2021-11-28  11:00:00 AM  Monday  28  Normal\n",
       "18 2021-11-28  12:00:00 PM  Monday  29  Normal\n",
       "19 2021-11-28   1:00:00 PM  Monday  30     Hot\n",
       "20 2021-11-28   2:00:00 PM  Monday  31     Hot\n",
       "21 2021-11-28   3:00:00 PM  Monday  31     Hot\n",
       "22 2021-11-28   4:00:00 PM  Monday  30     Hot\n",
       "23 2021-11-28   5:00:00 PM  Monday  29  Normal\n",
       "24 2021-11-28   6:00:00 PM  Monday  29  Normal\n",
       "25 2021-11-28   7:00:00 PM  Monday  28  Normal\n",
       "26 2021-11-28   8:00:00 PM  Monday  29  Normal\n",
       "27 2021-11-28   8:00:00 PM  Monday  29  Normal"
      ]
     },
     "execution_count": 22,
     "metadata": {},
     "output_type": "execute_result"
    }
   ],
   "source": [
    "df"
   ]
  },
  {
   "cell_type": "code",
   "execution_count": 23,
   "metadata": {
    "cell_id": "00020-82434dea-92fa-43d3-9ff7-f0ec24569132",
    "deepnote_cell_type": "code",
    "deepnote_output_heights": [
     40.375
    ],
    "deepnote_to_be_reexecuted": false,
    "execution_millis": 1,
    "execution_start": 1638980899447,
    "source_hash": "a2d2b8ab",
    "tags": []
   },
   "outputs": [],
   "source": [
    "df['Status']=df['Status'].replace(['Hot','Normal'],['1','2'])"
   ]
  },
  {
   "cell_type": "code",
   "execution_count": 24,
   "metadata": {
    "cell_id": "00022-bb330c46-fa25-4313-8741-27e5110aa4b1",
    "deepnote_cell_type": "code",
    "deepnote_output_heights": [
     21.1875
    ],
    "deepnote_to_be_reexecuted": false,
    "execution_millis": 10,
    "execution_start": 1638980903722,
    "source_hash": "a2b29ee1",
    "tags": []
   },
   "outputs": [
    {
     "data": {
      "text/plain": [
       "array(['2', '1'], dtype=object)"
      ]
     },
     "execution_count": 24,
     "metadata": {},
     "output_type": "execute_result"
    }
   ],
   "source": [
    "df['Status'].unique()"
   ]
  },
  {
   "cell_type": "code",
   "execution_count": 25,
   "metadata": {
    "cell_id": "00023-bf3076e1-b69c-485a-b497-6107af73bad5",
    "deepnote_cell_type": "code",
    "deepnote_to_be_reexecuted": false,
    "execution_millis": 2,
    "execution_start": 1638980975328,
    "source_hash": "ef40725c",
    "tags": []
   },
   "outputs": [],
   "source": [
    "#change into category type\n",
    "df['Status']=df['Status'].astype('category')"
   ]
  },
  {
   "cell_type": "code",
   "execution_count": 26,
   "metadata": {},
   "outputs": [
    {
     "data": {
      "text/plain": [
       "0     False\n",
       "1     False\n",
       "2     False\n",
       "3     False\n",
       "4     False\n",
       "5     False\n",
       "6     False\n",
       "7     False\n",
       "8     False\n",
       "9     False\n",
       "10    False\n",
       "11    False\n",
       "12    False\n",
       "13    False\n",
       "14    False\n",
       "15    False\n",
       "16    False\n",
       "17    False\n",
       "18    False\n",
       "19    False\n",
       "20    False\n",
       "21    False\n",
       "22    False\n",
       "23    False\n",
       "24    False\n",
       "25    False\n",
       "26     True\n",
       "27     True\n",
       "dtype: bool"
      ]
     },
     "execution_count": 26,
     "metadata": {},
     "output_type": "execute_result"
    }
   ],
   "source": [
    "# Uniqueness\n",
    "duplicates=df.duplicated(keep=False)\n",
    "duplicates"
   ]
  },
  {
   "cell_type": "code",
   "execution_count": 27,
   "metadata": {},
   "outputs": [
    {
     "data": {
      "text/html": [
       "<div>\n",
       "<style scoped>\n",
       "    .dataframe tbody tr th:only-of-type {\n",
       "        vertical-align: middle;\n",
       "    }\n",
       "\n",
       "    .dataframe tbody tr th {\n",
       "        vertical-align: top;\n",
       "    }\n",
       "\n",
       "    .dataframe thead th {\n",
       "        text-align: right;\n",
       "    }\n",
       "</style>\n",
       "<table border=\"1\" class=\"dataframe\">\n",
       "  <thead>\n",
       "    <tr style=\"text-align: right;\">\n",
       "      <th></th>\n",
       "      <th>Date</th>\n",
       "      <th>Time</th>\n",
       "      <th>Day</th>\n",
       "      <th>Tm</th>\n",
       "      <th>Status</th>\n",
       "    </tr>\n",
       "  </thead>\n",
       "  <tbody>\n",
       "    <tr>\n",
       "      <th>26</th>\n",
       "      <td>2021-11-28</td>\n",
       "      <td>8:00:00 PM</td>\n",
       "      <td>Monday</td>\n",
       "      <td>29</td>\n",
       "      <td>2</td>\n",
       "    </tr>\n",
       "    <tr>\n",
       "      <th>27</th>\n",
       "      <td>2021-11-28</td>\n",
       "      <td>8:00:00 PM</td>\n",
       "      <td>Monday</td>\n",
       "      <td>29</td>\n",
       "      <td>2</td>\n",
       "    </tr>\n",
       "  </tbody>\n",
       "</table>\n",
       "</div>"
      ],
      "text/plain": [
       "         Date        Time     Day  Tm Status\n",
       "26 2021-11-28  8:00:00 PM  Monday  29      2\n",
       "27 2021-11-28  8:00:00 PM  Monday  29      2"
      ]
     },
     "execution_count": 27,
     "metadata": {},
     "output_type": "execute_result"
    }
   ],
   "source": [
    "df.loc[26:27]"
   ]
  },
  {
   "cell_type": "code",
   "execution_count": 28,
   "metadata": {},
   "outputs": [
    {
     "data": {
      "text/html": [
       "<div>\n",
       "<style scoped>\n",
       "    .dataframe tbody tr th:only-of-type {\n",
       "        vertical-align: middle;\n",
       "    }\n",
       "\n",
       "    .dataframe tbody tr th {\n",
       "        vertical-align: top;\n",
       "    }\n",
       "\n",
       "    .dataframe thead th {\n",
       "        text-align: right;\n",
       "    }\n",
       "</style>\n",
       "<table border=\"1\" class=\"dataframe\">\n",
       "  <thead>\n",
       "    <tr style=\"text-align: right;\">\n",
       "      <th></th>\n",
       "      <th>Date</th>\n",
       "      <th>Time</th>\n",
       "      <th>Day</th>\n",
       "      <th>Tm</th>\n",
       "      <th>Status</th>\n",
       "    </tr>\n",
       "  </thead>\n",
       "  <tbody>\n",
       "    <tr>\n",
       "      <th>0</th>\n",
       "      <td>2021-11-27</td>\n",
       "      <td>8:00:00 AM</td>\n",
       "      <td>Sunday</td>\n",
       "      <td>27</td>\n",
       "      <td>2</td>\n",
       "    </tr>\n",
       "    <tr>\n",
       "      <th>1</th>\n",
       "      <td>2021-11-27</td>\n",
       "      <td>9:00:00 AM</td>\n",
       "      <td>Sunday</td>\n",
       "      <td>28</td>\n",
       "      <td>2</td>\n",
       "    </tr>\n",
       "    <tr>\n",
       "      <th>2</th>\n",
       "      <td>2021-11-27</td>\n",
       "      <td>10:00:00 AM</td>\n",
       "      <td>Sunday</td>\n",
       "      <td>29</td>\n",
       "      <td>2</td>\n",
       "    </tr>\n",
       "    <tr>\n",
       "      <th>3</th>\n",
       "      <td>2021-11-27</td>\n",
       "      <td>11:00:00 AM</td>\n",
       "      <td>Sunday</td>\n",
       "      <td>30</td>\n",
       "      <td>2</td>\n",
       "    </tr>\n",
       "    <tr>\n",
       "      <th>4</th>\n",
       "      <td>2021-11-27</td>\n",
       "      <td>12:00:00 PM</td>\n",
       "      <td>Sunday</td>\n",
       "      <td>30</td>\n",
       "      <td>2</td>\n",
       "    </tr>\n",
       "    <tr>\n",
       "      <th>5</th>\n",
       "      <td>2021-11-27</td>\n",
       "      <td>1:00:00 PM</td>\n",
       "      <td>Sunday</td>\n",
       "      <td>31</td>\n",
       "      <td>1</td>\n",
       "    </tr>\n",
       "    <tr>\n",
       "      <th>6</th>\n",
       "      <td>2021-11-27</td>\n",
       "      <td>2:00:00 PM</td>\n",
       "      <td>Sunday</td>\n",
       "      <td>33</td>\n",
       "      <td>1</td>\n",
       "    </tr>\n",
       "    <tr>\n",
       "      <th>7</th>\n",
       "      <td>2021-11-27</td>\n",
       "      <td>3:00:00 PM</td>\n",
       "      <td>Sunday</td>\n",
       "      <td>33</td>\n",
       "      <td>1</td>\n",
       "    </tr>\n",
       "    <tr>\n",
       "      <th>8</th>\n",
       "      <td>2021-11-27</td>\n",
       "      <td>4:00:00 PM</td>\n",
       "      <td>Sunday</td>\n",
       "      <td>34</td>\n",
       "      <td>1</td>\n",
       "    </tr>\n",
       "    <tr>\n",
       "      <th>9</th>\n",
       "      <td>2021-11-27</td>\n",
       "      <td>5:00:00 PM</td>\n",
       "      <td>Sunday</td>\n",
       "      <td>31</td>\n",
       "      <td>2</td>\n",
       "    </tr>\n",
       "    <tr>\n",
       "      <th>10</th>\n",
       "      <td>2021-11-27</td>\n",
       "      <td>6:00:00 PM</td>\n",
       "      <td>Sunday</td>\n",
       "      <td>32</td>\n",
       "      <td>2</td>\n",
       "    </tr>\n",
       "    <tr>\n",
       "      <th>11</th>\n",
       "      <td>2021-11-27</td>\n",
       "      <td>7:00:00 PM</td>\n",
       "      <td>Sunday</td>\n",
       "      <td>29</td>\n",
       "      <td>2</td>\n",
       "    </tr>\n",
       "    <tr>\n",
       "      <th>12</th>\n",
       "      <td>2021-11-27</td>\n",
       "      <td>8:00:00 PM</td>\n",
       "      <td>Sunday</td>\n",
       "      <td>29</td>\n",
       "      <td>2</td>\n",
       "    </tr>\n",
       "    <tr>\n",
       "      <th>13</th>\n",
       "      <td>2021-11-27</td>\n",
       "      <td>9:00:00 PM</td>\n",
       "      <td>Sunday</td>\n",
       "      <td>28</td>\n",
       "      <td>2</td>\n",
       "    </tr>\n",
       "    <tr>\n",
       "      <th>14</th>\n",
       "      <td>2021-11-28</td>\n",
       "      <td>8:00:00 AM</td>\n",
       "      <td>Monday</td>\n",
       "      <td>83</td>\n",
       "      <td>2</td>\n",
       "    </tr>\n",
       "    <tr>\n",
       "      <th>15</th>\n",
       "      <td>2021-11-28</td>\n",
       "      <td>9:00:00 AM</td>\n",
       "      <td>monday</td>\n",
       "      <td>85</td>\n",
       "      <td>2</td>\n",
       "    </tr>\n",
       "    <tr>\n",
       "      <th>16</th>\n",
       "      <td>2021-11-28</td>\n",
       "      <td>10:00:00 AM</td>\n",
       "      <td>Monday</td>\n",
       "      <td>28</td>\n",
       "      <td>2</td>\n",
       "    </tr>\n",
       "    <tr>\n",
       "      <th>17</th>\n",
       "      <td>2021-11-28</td>\n",
       "      <td>11:00:00 AM</td>\n",
       "      <td>Monday</td>\n",
       "      <td>28</td>\n",
       "      <td>2</td>\n",
       "    </tr>\n",
       "    <tr>\n",
       "      <th>18</th>\n",
       "      <td>2021-11-28</td>\n",
       "      <td>12:00:00 PM</td>\n",
       "      <td>Monday</td>\n",
       "      <td>29</td>\n",
       "      <td>2</td>\n",
       "    </tr>\n",
       "    <tr>\n",
       "      <th>19</th>\n",
       "      <td>2021-11-28</td>\n",
       "      <td>1:00:00 PM</td>\n",
       "      <td>Monday</td>\n",
       "      <td>30</td>\n",
       "      <td>1</td>\n",
       "    </tr>\n",
       "    <tr>\n",
       "      <th>20</th>\n",
       "      <td>2021-11-28</td>\n",
       "      <td>2:00:00 PM</td>\n",
       "      <td>Monday</td>\n",
       "      <td>31</td>\n",
       "      <td>1</td>\n",
       "    </tr>\n",
       "    <tr>\n",
       "      <th>21</th>\n",
       "      <td>2021-11-28</td>\n",
       "      <td>3:00:00 PM</td>\n",
       "      <td>Monday</td>\n",
       "      <td>31</td>\n",
       "      <td>1</td>\n",
       "    </tr>\n",
       "    <tr>\n",
       "      <th>22</th>\n",
       "      <td>2021-11-28</td>\n",
       "      <td>4:00:00 PM</td>\n",
       "      <td>Monday</td>\n",
       "      <td>30</td>\n",
       "      <td>1</td>\n",
       "    </tr>\n",
       "    <tr>\n",
       "      <th>23</th>\n",
       "      <td>2021-11-28</td>\n",
       "      <td>5:00:00 PM</td>\n",
       "      <td>Monday</td>\n",
       "      <td>29</td>\n",
       "      <td>2</td>\n",
       "    </tr>\n",
       "    <tr>\n",
       "      <th>24</th>\n",
       "      <td>2021-11-28</td>\n",
       "      <td>6:00:00 PM</td>\n",
       "      <td>Monday</td>\n",
       "      <td>29</td>\n",
       "      <td>2</td>\n",
       "    </tr>\n",
       "    <tr>\n",
       "      <th>25</th>\n",
       "      <td>2021-11-28</td>\n",
       "      <td>7:00:00 PM</td>\n",
       "      <td>Monday</td>\n",
       "      <td>28</td>\n",
       "      <td>2</td>\n",
       "    </tr>\n",
       "    <tr>\n",
       "      <th>26</th>\n",
       "      <td>2021-11-28</td>\n",
       "      <td>8:00:00 PM</td>\n",
       "      <td>Monday</td>\n",
       "      <td>29</td>\n",
       "      <td>2</td>\n",
       "    </tr>\n",
       "  </tbody>\n",
       "</table>\n",
       "</div>"
      ],
      "text/plain": [
       "         Date         Time     Day  Tm Status\n",
       "0  2021-11-27   8:00:00 AM  Sunday  27      2\n",
       "1  2021-11-27   9:00:00 AM  Sunday  28      2\n",
       "2  2021-11-27  10:00:00 AM  Sunday  29      2\n",
       "3  2021-11-27  11:00:00 AM  Sunday  30      2\n",
       "4  2021-11-27  12:00:00 PM  Sunday  30      2\n",
       "5  2021-11-27   1:00:00 PM  Sunday  31      1\n",
       "6  2021-11-27   2:00:00 PM  Sunday  33      1\n",
       "7  2021-11-27   3:00:00 PM  Sunday  33      1\n",
       "8  2021-11-27   4:00:00 PM  Sunday  34      1\n",
       "9  2021-11-27   5:00:00 PM  Sunday  31      2\n",
       "10 2021-11-27   6:00:00 PM  Sunday  32      2\n",
       "11 2021-11-27   7:00:00 PM  Sunday  29      2\n",
       "12 2021-11-27   8:00:00 PM  Sunday  29      2\n",
       "13 2021-11-27   9:00:00 PM  Sunday  28      2\n",
       "14 2021-11-28   8:00:00 AM  Monday  83      2\n",
       "15 2021-11-28   9:00:00 AM  monday  85      2\n",
       "16 2021-11-28  10:00:00 AM  Monday  28      2\n",
       "17 2021-11-28  11:00:00 AM  Monday  28      2\n",
       "18 2021-11-28  12:00:00 PM  Monday  29      2\n",
       "19 2021-11-28   1:00:00 PM  Monday  30      1\n",
       "20 2021-11-28   2:00:00 PM  Monday  31      1\n",
       "21 2021-11-28   3:00:00 PM  Monday  31      1\n",
       "22 2021-11-28   4:00:00 PM  Monday  30      1\n",
       "23 2021-11-28   5:00:00 PM  Monday  29      2\n",
       "24 2021-11-28   6:00:00 PM  Monday  29      2\n",
       "25 2021-11-28   7:00:00 PM  Monday  28      2\n",
       "26 2021-11-28   8:00:00 PM  Monday  29      2"
      ]
     },
     "execution_count": 28,
     "metadata": {},
     "output_type": "execute_result"
    }
   ],
   "source": [
    "#drop last row\n",
    "df.drop(27)"
   ]
  },
  {
   "cell_type": "code",
   "execution_count": 35,
   "metadata": {
    "cell_id": "00024-efaca7da-bf07-469d-84ac-f70fb2558ecb",
    "deepnote_cell_type": "code",
    "deepnote_to_be_reexecuted": false,
    "execution_millis": 89,
    "execution_start": 1638980986404,
    "source_hash": "de1e323c",
    "tags": []
   },
   "outputs": [
    {
     "name": "stdout",
     "output_type": "stream",
     "text": [
      "<class 'pandas.core.frame.DataFrame'>\n",
      "Int64Index: 28 entries, 0 to 27\n",
      "Data columns (total 5 columns):\n",
      "Date      28 non-null datetime64[ns]\n",
      "Time      28 non-null object\n",
      "Day       28 non-null object\n",
      "Tm        28 non-null float64\n",
      "Status    28 non-null category\n",
      "dtypes: category(1), datetime64[ns](1), float64(1), object(2)\n",
      "memory usage: 2.5+ KB\n"
     ]
    }
   ],
   "source": [
    "df.info()"
   ]
  },
  {
   "cell_type": "code",
   "execution_count": 30,
   "metadata": {
    "cell_id": "00025-561c6c82-803a-45fb-9f3d-23f228acc2d0",
    "deepnote_cell_type": "code",
    "deepnote_output_heights": [
     174.6875
    ],
    "deepnote_to_be_reexecuted": false,
    "execution_millis": 171,
    "execution_start": 1638981032481,
    "scrolled": true,
    "source_hash": "f8fd1098",
    "tags": []
   },
   "outputs": [
    {
     "data": {
      "text/plain": [
       "count    28.000000\n",
       "mean     33.678571\n",
       "std      14.316666\n",
       "min      27.000000\n",
       "25%      29.000000\n",
       "50%      29.500000\n",
       "75%      31.000000\n",
       "max      85.000000\n",
       "Name: Tm, dtype: float64"
      ]
     },
     "execution_count": 30,
     "metadata": {},
     "output_type": "execute_result"
    }
   ],
   "source": [
    "#Statistics of Tm \n",
    "df['Tm'].describe()"
   ]
  },
  {
   "cell_type": "code",
   "execution_count": 31,
   "metadata": {},
   "outputs": [
    {
     "data": {
      "image/png": "[encoded data removed]",
      "text/plain": [
       "<Figure size 432x288 with 1 Axes>"
      ]
     },
     "metadata": {
      "needs_background": "light"
     },
     "output_type": "display_data"
    }
   ],
   "source": [
    "plt.scatter(x='Time',y='Tm',data=df)\n",
    "plt.title(\"Temperatures for Two Days\")\n",
    "plt.xlabel('Time')\n",
    "plt.ylabel('Temperature in celcius')\n",
    "ax=plt.gca()\n",
    "ax.set_xticklabels(labels=df['Time'],rotation=45)\n",
    "plt.show()\n"
   ]
  },
  {
   "cell_type": "code",
   "execution_count": 32,
   "metadata": {
    "cell_id": "00027-b4b62051-e361-442f-94f6-466b5dc52149",
    "deepnote_cell_type": "code",
    "deepnote_to_be_reexecuted": false,
    "execution_millis": 3,
    "execution_start": 1638981450302,
    "source_hash": "70c16ae1",
    "tags": []
   },
   "outputs": [],
   "source": [
    "# change fahrenheight to celsius\n",
    "temp_fah=df.loc[df['Tm']>40,'Tm']\n",
    "temp_cels=(temp_fah-32)*(5/9)\n",
    "df.loc[df['Tm']>40,'Tm']=temp_cels\n",
    "assert df['Tm'].max()<40"
   ]
  },
  {
   "cell_type": "code",
   "execution_count": 33,
   "metadata": {
    "cell_id": "00028-25dbf9ba-b9a5-4b1b-86db-9f3033134cb5",
    "deepnote_cell_type": "code",
    "deepnote_to_be_reexecuted": false,
    "execution_millis": 4,
    "execution_start": 1638981469375,
    "source_hash": "f88152d9",
    "tags": []
   },
   "outputs": [
    {
     "data": {
      "text/html": [
       "<div>\n",
       "<style scoped>\n",
       "    .dataframe tbody tr th:only-of-type {\n",
       "        vertical-align: middle;\n",
       "    }\n",
       "\n",
       "    .dataframe tbody tr th {\n",
       "        vertical-align: top;\n",
       "    }\n",
       "\n",
       "    .dataframe thead th {\n",
       "        text-align: right;\n",
       "    }\n",
       "</style>\n",
       "<table border=\"1\" class=\"dataframe\">\n",
       "  <thead>\n",
       "    <tr style=\"text-align: right;\">\n",
       "      <th></th>\n",
       "      <th>Tm</th>\n",
       "    </tr>\n",
       "  </thead>\n",
       "  <tbody>\n",
       "    <tr>\n",
       "      <th>count</th>\n",
       "      <td>28.000000</td>\n",
       "    </tr>\n",
       "    <tr>\n",
       "      <th>mean</th>\n",
       "      <td>29.742063</td>\n",
       "    </tr>\n",
       "    <tr>\n",
       "      <th>std</th>\n",
       "      <td>1.723729</td>\n",
       "    </tr>\n",
       "    <tr>\n",
       "      <th>min</th>\n",
       "      <td>27.000000</td>\n",
       "    </tr>\n",
       "    <tr>\n",
       "      <th>25%</th>\n",
       "      <td>28.833333</td>\n",
       "    </tr>\n",
       "    <tr>\n",
       "      <th>50%</th>\n",
       "      <td>29.000000</td>\n",
       "    </tr>\n",
       "    <tr>\n",
       "      <th>75%</th>\n",
       "      <td>31.000000</td>\n",
       "    </tr>\n",
       "    <tr>\n",
       "      <th>max</th>\n",
       "      <td>34.000000</td>\n",
       "    </tr>\n",
       "  </tbody>\n",
       "</table>\n",
       "</div>"
      ],
      "text/plain": [
       "              Tm\n",
       "count  28.000000\n",
       "mean   29.742063\n",
       "std     1.723729\n",
       "min    27.000000\n",
       "25%    28.833333\n",
       "50%    29.000000\n",
       "75%    31.000000\n",
       "max    34.000000"
      ]
     },
     "execution_count": 33,
     "metadata": {},
     "output_type": "execute_result"
    }
   ],
   "source": [
    "df.describe()"
   ]
  },
  {
   "cell_type": "code",
   "execution_count": 34,
   "metadata": {},
   "outputs": [
    {
     "data": {
      "image/png": "[encoded data removed]",
      "text/plain": [
       "<Figure size 432x288 with 1 Axes>"
      ]
     },
     "metadata": {
      "needs_background": "light"
     },
     "output_type": "display_data"
    }
   ],
   "source": [
    "# comparing tow day temperature \n",
    "FirstDay=df[df['Date']=='2021-11-27']\n",
    "SecondDay=df[df['Date']=='2021-11-28']\n",
    "plt.plot(FirstDay['Time'],FirstDay['Tm'],'-.',color='red')\n",
    "plt.plot(SecondDay['Time'],SecondDay['Tm'],'-.',color='blue')\n",
    "plt.title(\"Temperatures for Two Days\")\n",
    "plt.xlabel(['Time','Date'])\n",
    "plt.ylabel('Temperature in celcius')\n",
    "ax=plt.gca()\n",
    "ax.set_xticklabels(labels=df['Time'],rotation=45)\n",
    "plt.show()"
   ]
  },
  {
   "cell_type": "markdown",
   "metadata": {
    "created_in_deepnote_cell": true,
    "deepnote_cell_type": "markdown",
    "tags": []
   },
   "source": [
    "<a style='text-decoration:none;line-height:16px;display:flex;color:#5B5B62;padding:10px;justify-content:end;' href='https://deepnote.com?utm_source=created-in-deepnote-cell&projectId=6f6e2c88-220d-4c67-914f-94e653a267a2' target=\"_blank\">\n",
    "<img alt='Created in deepnote.com' style='display:inline;max-height:16px;margin:0px;margin-right:7.5px;' src='data:image/svg+xml;base64,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' > </img>\n",
    "Created in <span style='font-weight:600;margin-left:4px;'>Deepnote</span></a>"
   ]
  }
 ],
 "metadata": {
  "deepnote": {
   "is_reactive": false
  },
  "deepnote_execution_queue": [],
  "deepnote_notebook_id": "c28777b0-7ac0-45dc-acae-38db3780cb95",
  "kernelspec": {
   "display_name": "Python 3",
   "language": "python",
   "name": "python3"
  },
  "language_info": {
   "codemirror_mode": {
    "name": "ipython",
    "version": 3
   },
   "file_extension": ".py",
   "mimetype": "text/x-python",
   "name": "python",
   "nbconvert_exporter": "python",
   "pygments_lexer": "ipython3",
   "version": "3.7.1"
  }
 },
 "nbformat": 4,
 "nbformat_minor": 2
}
